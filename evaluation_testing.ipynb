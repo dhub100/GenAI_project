{
 "cells": [
  {
   "cell_type": "code",
   "id": "initial_id",
   "metadata": {
    "collapsed": true,
    "ExecuteTime": {
     "end_time": "2025-10-20T19:08:28.385582Z",
     "start_time": "2025-10-20T19:08:12.570957Z"
    }
   },
   "source": [
    "import pandas as pd\n",
    "from advanced_rag import AdvancedRAG, EmbeddingModelType, ChainType\n",
    "from basic_rag import answer_query as basic_answer_query\n",
    "# from sklearn.metrics.pairwise import cosine_similarity\n",
    "from sentence_transformers import SentenceTransformer, util"
   ],
   "outputs": [],
   "execution_count": 1
  },
  {
   "metadata": {
    "ExecuteTime": {
     "end_time": "2025-10-20T19:08:28.462209Z",
     "start_time": "2025-10-20T19:08:28.449805Z"
    }
   },
   "cell_type": "code",
   "source": [
    "def get_score(pred: str, gold: str, semantic_model) -> float:\n",
    "    emb_pred = semantic_model.encode(pred, convert_to_tensor=True)\n",
    "    emb_gold = semantic_model.encode(gold, convert_to_tensor=True)\n",
    "    sim = util.cos_sim(emb_pred, emb_gold).item()\n",
    "    return sim"
   ],
   "id": "1c8458267d1eb159",
   "outputs": [],
   "execution_count": 2
  },
  {
   "metadata": {
    "ExecuteTime": {
     "end_time": "2025-10-20T19:08:32.621103Z",
     "start_time": "2025-10-20T19:08:28.881264Z"
    }
   },
   "cell_type": "code",
   "source": "self_llm = AdvancedRAG()",
   "id": "87d9304fa55bde3b",
   "outputs": [
    {
     "name": "stdout",
     "output_type": "stream",
     "text": [
      "Make sure the Ollama server is running (use 'ollama serve' in another terminal)\n",
      ".\n",
      "The server must be active once per session before starting this script.\n",
      "\n",
      "Loading sentence-transformer embeddings...\n",
      "Loading existing FAISS vector database...\n",
      "Loading local Llama 3.1 model via Ollama...\n"
     ]
    }
   ],
   "execution_count": 3
  },
  {
   "metadata": {
    "ExecuteTime": {
     "end_time": "2025-10-20T19:08:32.664245Z",
     "start_time": "2025-10-20T19:08:32.649760Z"
    }
   },
   "cell_type": "code",
   "source": [
    "llm_prompt = \"Please score the level of correctness of the predicted answer based on the gold answer. You should give a high score to an answer that contains at least the elements contained in the gold answer. If a few additionnary elements are present in the predicted answer, you can still give a high score for the answer. If elements of the predicted answer are contradicting the gold answer, the final score should be low. 1 is a perfect score (all elements aôf the gold answer a in the predicted answer). O is a very low score (None of the elements of the gold answer are in the predicted answer).\\n Gold answer : {gold_answer}. Predicted answer : {predicted_answer}. Please only give your score with no comments or explanations.\"\n",
    "gold_answer = \"Big Brother is said to be the leader and ruler of Oceania. He has black hair and a black mustache and looks calm and powerful.\""
   ],
   "id": "4d74f48b685d6cbd",
   "outputs": [],
   "execution_count": 4
  },
  {
   "metadata": {
    "ExecuteTime": {
     "end_time": "2025-10-20T19:08:32.711721Z",
     "start_time": "2025-10-20T19:08:32.702059Z"
    }
   },
   "cell_type": "code",
   "source": "pred_answer = \"Big Brother in 1984 symbolizes the Party’s absolute power and control over the people, serving as a constant reminder that citizens are always being watched. He represents both a figure of authority and an instrument of fear, ensuring obedience through surveillance and propaganda. His image is typically described as a stern, mustachioed face, often gazing directly forward, giving the impression that he is watching each person individually.\"",
   "id": "a8a9704ed75bd567",
   "outputs": [],
   "execution_count": 5
  },
  {
   "metadata": {
    "ExecuteTime": {
     "end_time": "2025-10-20T19:08:35.860551Z",
     "start_time": "2025-10-20T19:08:32.731314Z"
    }
   },
   "cell_type": "code",
   "source": [
    "sim_score = get_score(\n",
    "    pred=pred_answer, gold=gold_answer, semantic_model=SentenceTransformer('all-MiniLM-L6-v2')\n",
    ")\n",
    "sim_score"
   ],
   "id": "307b100eb70775b1",
   "outputs": [
    {
     "data": {
      "text/plain": [
       "0.6392040252685547"
      ]
     },
     "execution_count": 6,
     "metadata": {},
     "output_type": "execute_result"
    }
   ],
   "execution_count": 6
  },
  {
   "metadata": {
    "ExecuteTime": {
     "end_time": "2025-10-20T19:09:38.596887Z",
     "start_time": "2025-10-20T19:08:35.907430Z"
    }
   },
   "cell_type": "code",
   "source": [
    "for _ in range(5):\n",
    "    sim_score = float(self_llm.get_direct_llm_answer(llm_prompt.replace(\"{gold_answer}\", gold_answer).replace(\"{predicted_answer}\", pred_answer)))\n",
    "    print(sim_score)"
   ],
   "id": "f1369c77a18accec",
   "outputs": [
    {
     "name": "stdout",
     "output_type": "stream",
     "text": [
      "0.8\n",
      "0.8\n",
      "0.8\n",
      "0.8\n",
      "0.8\n"
     ]
    }
   ],
   "execution_count": 7
  },
  {
   "metadata": {
    "ExecuteTime": {
     "end_time": "2025-10-20T19:09:38.687337Z",
     "start_time": "2025-10-20T19:09:38.681789Z"
    }
   },
   "cell_type": "code",
   "source": "pred_answer = \"Big Brother in 1984 symbolizes the Party’s absolute power and control over the people. His image is typically described as a stern, mustachioed face.\"",
   "id": "2559f5fabca327b7",
   "outputs": [],
   "execution_count": 8
  },
  {
   "metadata": {
    "ExecuteTime": {
     "end_time": "2025-10-20T19:09:41.505477Z",
     "start_time": "2025-10-20T19:09:38.733261Z"
    }
   },
   "cell_type": "code",
   "source": [
    "sim_score = get_score(\n",
    "    pred=pred_answer, gold=gold_answer, semantic_model=SentenceTransformer('all-MiniLM-L6-v2')\n",
    ")\n",
    "sim_score"
   ],
   "id": "6a3005bc2cc76e57",
   "outputs": [
    {
     "data": {
      "text/plain": [
       "0.6651268005371094"
      ]
     },
     "execution_count": 9,
     "metadata": {},
     "output_type": "execute_result"
    }
   ],
   "execution_count": 9
  },
  {
   "metadata": {
    "ExecuteTime": {
     "end_time": "2025-10-20T19:09:57.950147Z",
     "start_time": "2025-10-20T19:09:41.516820Z"
    }
   },
   "cell_type": "code",
   "source": [
    "for _ in range(5):\n",
    "    sim_score = float(self_llm.get_direct_llm_answer(llm_prompt.replace(\"{gold_answer}\", gold_answer).replace(\"{predicted_answer}\", pred_answer)))\n",
    "    print(sim_score)"
   ],
   "id": "59070c0c3a6fdb95",
   "outputs": [
    {
     "name": "stdout",
     "output_type": "stream",
     "text": [
      "0.8\n",
      "0.8\n",
      "0.8\n",
      "0.5\n",
      "0.8\n"
     ]
    }
   ],
   "execution_count": 10
  },
  {
   "metadata": {
    "ExecuteTime": {
     "end_time": "2025-10-20T19:13:18.598018Z",
     "start_time": "2025-10-20T19:13:18.590382Z"
    }
   },
   "cell_type": "code",
   "source": "pred_answer = \"Big Brother is my neighbors' oldest son. He is tall, blond and looks funny\"",
   "id": "517456470c0dabe6",
   "outputs": [],
   "execution_count": 24
  },
  {
   "metadata": {
    "ExecuteTime": {
     "end_time": "2025-10-20T19:10:01.410964Z",
     "start_time": "2025-10-20T19:09:58.017170Z"
    }
   },
   "cell_type": "code",
   "source": [
    "sim_score = get_score(\n",
    "    pred=pred_answer, gold=gold_answer, semantic_model=SentenceTransformer('all-MiniLM-L6-v2')\n",
    ")\n",
    "sim_score"
   ],
   "id": "b9bd2affbca86d42",
   "outputs": [
    {
     "data": {
      "text/plain": [
       "0.49509742856025696"
      ]
     },
     "execution_count": 12,
     "metadata": {},
     "output_type": "execute_result"
    }
   ],
   "execution_count": 12
  },
  {
   "metadata": {
    "ExecuteTime": {
     "end_time": "2025-10-20T19:13:31.357396Z",
     "start_time": "2025-10-20T19:13:21.392703Z"
    }
   },
   "cell_type": "code",
   "source": [
    "for _ in range(5):\n",
    "    sim_score = float(self_llm.get_direct_llm_answer(llm_prompt.replace(\"{gold_answer}\", gold_answer).replace(\"{predicted_answer}\", pred_answer)))\n",
    "    print(sim_score)"
   ],
   "id": "767f88341c1b9e32",
   "outputs": [
    {
     "name": "stdout",
     "output_type": "stream",
     "text": [
      "0.0\n",
      "0.0\n",
      "0.0\n",
      "0.0\n",
      "0.0\n"
     ]
    }
   ],
   "execution_count": 25
  },
  {
   "metadata": {
    "ExecuteTime": {
     "end_time": "2025-10-20T19:12:57.225378Z",
     "start_time": "2025-10-20T19:12:57.220054Z"
    }
   },
   "cell_type": "code",
   "source": "pred_answer = \"Big Brother is said to be the leader and ruler of Oceania. He has blond hair and a red mustache and looks angry and stressed.\"",
   "id": "eb76bcb54293c05e",
   "outputs": [],
   "execution_count": 22
  },
  {
   "metadata": {
    "ExecuteTime": {
     "end_time": "2025-10-20T19:10:17.159187Z",
     "start_time": "2025-10-20T19:10:13.567113Z"
    }
   },
   "cell_type": "code",
   "source": [
    "sim_score = get_score(\n",
    "    pred=pred_answer, gold=gold_answer, semantic_model=SentenceTransformer('all-MiniLM-L6-v2')\n",
    ")\n",
    "sim_score"
   ],
   "id": "6995db7ef3a1db41",
   "outputs": [
    {
     "data": {
      "text/plain": [
       "0.951839029788971"
      ]
     },
     "execution_count": 15,
     "metadata": {},
     "output_type": "execute_result"
    }
   ],
   "execution_count": 15
  },
  {
   "metadata": {
    "ExecuteTime": {
     "end_time": "2025-10-20T19:13:16.921044Z",
     "start_time": "2025-10-20T19:13:00.909918Z"
    }
   },
   "cell_type": "code",
   "source": [
    "for _ in range(5):\n",
    "    sim_score = float(self_llm.get_direct_llm_answer(llm_prompt.replace(\"{gold_answer}\", gold_answer).replace(\"{predicted_answer}\", pred_answer)))\n",
    "    print(sim_score)"
   ],
   "id": "ebdd2614696535b5",
   "outputs": [
    {
     "name": "stdout",
     "output_type": "stream",
     "text": [
      "0.5\n",
      "0.5\n",
      "0.5\n",
      "0.5\n",
      "0.5\n"
     ]
    }
   ],
   "execution_count": 23
  },
  {
   "metadata": {
    "ExecuteTime": {
     "end_time": "2025-10-20T19:14:36.077125Z",
     "start_time": "2025-10-20T19:14:36.069411Z"
    }
   },
   "cell_type": "code",
   "source": "pred_answer = \"Big Brother is the leader and ruler of Oceania. He has black hair.\"",
   "id": "3ac550be3b90bc2f",
   "outputs": [],
   "execution_count": 26
  },
  {
   "metadata": {
    "ExecuteTime": {
     "end_time": "2025-10-20T19:10:38.852294Z",
     "start_time": "2025-10-20T19:10:35.933933Z"
    }
   },
   "cell_type": "code",
   "source": [
    "sim_score = get_score(\n",
    "    pred=pred_answer, gold=gold_answer, semantic_model=SentenceTransformer('all-MiniLM-L6-v2')\n",
    ")\n",
    "sim_score"
   ],
   "id": "52e0d9ae114bde30",
   "outputs": [
    {
     "data": {
      "text/plain": [
       "0.9408539533615112"
      ]
     },
     "execution_count": 18,
     "metadata": {},
     "output_type": "execute_result"
    }
   ],
   "execution_count": 18
  },
  {
   "metadata": {
    "ExecuteTime": {
     "end_time": "2025-10-20T19:14:54.704105Z",
     "start_time": "2025-10-20T19:14:40.583424Z"
    }
   },
   "cell_type": "code",
   "source": [
    "for _ in range(5):\n",
    "    sim_score = float(self_llm.get_direct_llm_answer(llm_prompt.replace(\"{gold_answer}\", gold_answer).replace(\"{predicted_answer}\", pred_answer)))\n",
    "    print(sim_score)"
   ],
   "id": "d7319a85b405e1f1",
   "outputs": [
    {
     "name": "stdout",
     "output_type": "stream",
     "text": [
      "0.5\n",
      "0.5\n",
      "0.5\n",
      "0.5\n",
      "0.5\n"
     ]
    }
   ],
   "execution_count": 27
  }
 ],
 "metadata": {
  "kernelspec": {
   "display_name": "Python 3",
   "language": "python",
   "name": "python3"
  },
  "language_info": {
   "codemirror_mode": {
    "name": "ipython",
    "version": 2
   },
   "file_extension": ".py",
   "mimetype": "text/x-python",
   "name": "python",
   "nbconvert_exporter": "python",
   "pygments_lexer": "ipython2",
   "version": "2.7.6"
  }
 },
 "nbformat": 4,
 "nbformat_minor": 5
}
